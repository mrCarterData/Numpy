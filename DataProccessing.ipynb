{
  "nbformat": 4,
  "nbformat_minor": 0,
  "metadata": {
    "colab": {
      "provenance": [],
      "authorship_tag": "ABX9TyPApSRIBKyCaXIY76nPY7Ol",
      "include_colab_link": true
    },
    "kernelspec": {
      "name": "python3",
      "display_name": "Python 3"
    },
    "language_info": {
      "name": "python"
    }
  },
  "cells": [
    {
      "cell_type": "markdown",
      "metadata": {
        "id": "view-in-github",
        "colab_type": "text"
      },
      "source": [
        "<a href=\"https://colab.research.google.com/github/mrCarterData/Numpy/blob/main/DataProccessing.ipynb\" target=\"_parent\"><img src=\"https://colab.research.google.com/assets/colab-badge.svg\" alt=\"Open In Colab\"/></a>"
      ]
    },
    {
      "cell_type": "markdown",
      "source": [
        "Numpy"
      ],
      "metadata": {
        "id": "Tg7IGeru9TjV"
      }
    },
    {
      "cell_type": "code",
      "execution_count": null,
      "metadata": {
        "colab": {
          "base_uri": "https://localhost:8080/"
        },
        "id": "l8Irj4-d9Ojd",
        "outputId": "c287b525-ec4d-440f-e6a2-dd68e0607747"
      },
      "outputs": [
        {
          "output_type": "stream",
          "name": "stdout",
          "text": [
            "[1, 2, 54, 12]\n",
            "<class 'list'>\n"
          ]
        }
      ],
      "source": [
        "A = [1 , 2 , 54 , 12]\n",
        "print(A)\n",
        "print(type(A))"
      ]
    },
    {
      "cell_type": "code",
      "source": [
        "import numpy as np\n",
        "my_array = np.array(A)"
      ],
      "metadata": {
        "id": "GHfM7WIm9sjT"
      },
      "execution_count": null,
      "outputs": []
    },
    {
      "cell_type": "markdown",
      "source": [
        "Basically numpy is used for all the mathematical calculation."
      ],
      "metadata": {
        "id": "Iihv8OhvZNd_"
      }
    },
    {
      "cell_type": "code",
      "source": [
        "print(my_array)"
      ],
      "metadata": {
        "colab": {
          "base_uri": "https://localhost:8080/"
        },
        "id": "B--FMy6s-CZJ",
        "outputId": "db07918d-ac71-43fb-929c-039d5bc843d3"
      },
      "execution_count": null,
      "outputs": [
        {
          "output_type": "stream",
          "name": "stdout",
          "text": [
            "[ 1  2 54 12]\n"
          ]
        }
      ]
    },
    {
      "cell_type": "code",
      "source": [
        "type(my_array)"
      ],
      "metadata": {
        "colab": {
          "base_uri": "https://localhost:8080/"
        },
        "id": "1kc6Dfuy-EAS",
        "outputId": "15b8d2a2-d5ab-46b6-a093-50e745f1bbb9"
      },
      "execution_count": null,
      "outputs": [
        {
          "output_type": "execute_result",
          "data": {
            "text/plain": [
              "numpy.ndarray"
            ]
          },
          "metadata": {},
          "execution_count": 4
        }
      ]
    },
    {
      "cell_type": "code",
      "source": [
        "# not allowed with list\n",
        "print(A + 5)"
      ],
      "metadata": {
        "colab": {
          "base_uri": "https://localhost:8080/",
          "height": 164
        },
        "id": "zlRRdQDE-IF7",
        "outputId": "0c884581-0329-4fb8-b5da-71fb7d46c3ef"
      },
      "execution_count": null,
      "outputs": [
        {
          "output_type": "error",
          "ename": "TypeError",
          "evalue": "ignored",
          "traceback": [
            "\u001b[0;31m---------------------------------------------------------------------------\u001b[0m",
            "\u001b[0;31mTypeError\u001b[0m                                 Traceback (most recent call last)",
            "\u001b[0;32m<ipython-input-5-a27f6a0027dc>\u001b[0m in \u001b[0;36m<cell line: 1>\u001b[0;34m()\u001b[0m\n\u001b[0;32m----> 1\u001b[0;31m \u001b[0mprint\u001b[0m\u001b[0;34m(\u001b[0m\u001b[0mA\u001b[0m \u001b[0;34m+\u001b[0m \u001b[0;36m5\u001b[0m\u001b[0;34m)\u001b[0m\u001b[0;34m\u001b[0m\u001b[0;34m\u001b[0m\u001b[0m\n\u001b[0m",
            "\u001b[0;31mTypeError\u001b[0m: can only concatenate list (not \"int\") to list"
          ]
        }
      ]
    },
    {
      "cell_type": "code",
      "source": [
        "print(my_array + 5)"
      ],
      "metadata": {
        "colab": {
          "base_uri": "https://localhost:8080/"
        },
        "id": "RXjsAiTc-bPo",
        "outputId": "3fd3d72c-cfc9-48a4-e106-b32fa6dfbad6"
      },
      "execution_count": null,
      "outputs": [
        {
          "output_type": "stream",
          "name": "stdout",
          "text": [
            "[ 6  7 59 17]\n"
          ]
        }
      ]
    },
    {
      "cell_type": "code",
      "source": [
        "# 2 Dimensional Array\n",
        "\n",
        "b = np.array([38 , 23 , 32 , 64])\n",
        "a = np.array([[38 , 23 , 32 , 64] , [83 , 31 , 21, 46]])\n",
        "print(b)\n",
        "print('----')\n",
        "print(a)"
      ],
      "metadata": {
        "colab": {
          "base_uri": "https://localhost:8080/"
        },
        "id": "6iwPmiLu-nuI",
        "outputId": "b12424ea-f7fe-47e8-cc38-3a7ce9552520"
      },
      "execution_count": null,
      "outputs": [
        {
          "output_type": "stream",
          "name": "stdout",
          "text": [
            "[38 23 32 64]\n",
            "----\n",
            "[[38 23 32 64]\n",
            " [83 31 21 46]]\n"
          ]
        }
      ]
    },
    {
      "cell_type": "code",
      "source": [
        "lst = [10,200,400,0]\n",
        "\n",
        "lst_new = lst+10\n",
        "print(lst_new)"
      ],
      "metadata": {
        "colab": {
          "base_uri": "https://localhost:8080/",
          "height": 215
        },
        "id": "mDfkBu5AZJ5I",
        "outputId": "62b6cae5-5b0a-4c71-a45f-39f0070ad07b"
      },
      "execution_count": null,
      "outputs": [
        {
          "output_type": "error",
          "ename": "TypeError",
          "evalue": "ignored",
          "traceback": [
            "\u001b[0;31m---------------------------------------------------------------------------\u001b[0m",
            "\u001b[0;31mTypeError\u001b[0m                                 Traceback (most recent call last)",
            "\u001b[0;32m<ipython-input-2-8133775a74f4>\u001b[0m in \u001b[0;36m<cell line: 3>\u001b[0;34m()\u001b[0m\n\u001b[1;32m      1\u001b[0m \u001b[0mlst\u001b[0m \u001b[0;34m=\u001b[0m \u001b[0;34m[\u001b[0m\u001b[0;36m10\u001b[0m\u001b[0;34m,\u001b[0m\u001b[0;36m200\u001b[0m\u001b[0;34m,\u001b[0m\u001b[0;36m400\u001b[0m\u001b[0;34m,\u001b[0m\u001b[0;36m0\u001b[0m\u001b[0;34m]\u001b[0m\u001b[0;34m\u001b[0m\u001b[0;34m\u001b[0m\u001b[0m\n\u001b[1;32m      2\u001b[0m \u001b[0;34m\u001b[0m\u001b[0m\n\u001b[0;32m----> 3\u001b[0;31m \u001b[0mlst_new\u001b[0m \u001b[0;34m=\u001b[0m \u001b[0mlst\u001b[0m\u001b[0;34m+\u001b[0m\u001b[0;36m10\u001b[0m\u001b[0;34m\u001b[0m\u001b[0;34m\u001b[0m\u001b[0m\n\u001b[0m\u001b[1;32m      4\u001b[0m \u001b[0mprint\u001b[0m\u001b[0;34m(\u001b[0m\u001b[0mlst_new\u001b[0m\u001b[0;34m)\u001b[0m\u001b[0;34m\u001b[0m\u001b[0;34m\u001b[0m\u001b[0m\n",
            "\u001b[0;31mTypeError\u001b[0m: can only concatenate list (not \"int\") to list"
          ]
        }
      ]
    },
    {
      "cell_type": "code",
      "source": [
        "import numpy as np\n",
        "arr = np.array(lst)\n",
        "ar_new = arr+10\n",
        "print(ar_new)"
      ],
      "metadata": {
        "colab": {
          "base_uri": "https://localhost:8080/"
        },
        "id": "hr-zgNJFZ6yc",
        "outputId": "4dac732c-8b4c-40d4-c67e-e41f425bdc40"
      },
      "execution_count": null,
      "outputs": [
        {
          "output_type": "stream",
          "name": "stdout",
          "text": [
            "[ 20 210 410  10]\n"
          ]
        }
      ]
    },
    {
      "cell_type": "markdown",
      "source": [
        "Shape of an array"
      ],
      "metadata": {
        "id": "tO0TlD-LaRgT"
      }
    },
    {
      "cell_type": "code",
      "source": [
        "# shape\n",
        "a = np.array([1,2,3,4]) # 1-D array\n",
        "b = np.array([[1,2,3,4],[5,6,7,8]]) # 2-D array\n",
        "\n",
        "# for checking the shaoe of both the array\n",
        "print(a.shape)\n",
        "print(b.shape)"
      ],
      "metadata": {
        "colab": {
          "base_uri": "https://localhost:8080/"
        },
        "id": "VoFUKQAdaEet",
        "outputId": "ebf32b58-4e9d-4797-f69c-4c1ca6fd9fb7"
      },
      "execution_count": null,
      "outputs": [
        {
          "output_type": "stream",
          "name": "stdout",
          "text": [
            "(4,)\n",
            "(2, 4)\n"
          ]
        }
      ]
    },
    {
      "cell_type": "code",
      "source": [
        "# ndim -> fucntion\n",
        "print(a.ndim)\n",
        "# it will give you the dimession of an array\n",
        "print(b.ndim)\n"
      ],
      "metadata": {
        "colab": {
          "base_uri": "https://localhost:8080/"
        },
        "id": "UlMae7lEaq6D",
        "outputId": "edd68f4d-6adb-4eff-b3c3-b73f37924a66"
      },
      "execution_count": null,
      "outputs": [
        {
          "output_type": "stream",
          "name": "stdout",
          "text": [
            "1\n",
            "2\n"
          ]
        }
      ]
    },
    {
      "cell_type": "code",
      "source": [
        "print(a.size)\n",
        "print(b.size)\n",
        "# size ()-> it used for fiuncing the number of values in an array"
      ],
      "metadata": {
        "colab": {
          "base_uri": "https://localhost:8080/"
        },
        "id": "KsRVNRaoa_u4",
        "outputId": "d32f0952-df31-4b93-e131-e1d2c8941b45"
      },
      "execution_count": null,
      "outputs": [
        {
          "output_type": "stream",
          "name": "stdout",
          "text": [
            "4\n",
            "8\n"
          ]
        }
      ]
    },
    {
      "cell_type": "code",
      "source": [
        "# itemsize\n",
        "print(a.itemsize)\n",
        "print(b.itemsize)\n",
        "# the values stored at location(it memory size)"
      ],
      "metadata": {
        "colab": {
          "base_uri": "https://localhost:8080/"
        },
        "id": "90VqzBEubK5w",
        "outputId": "2ad62234-d1d1-4c18-c1cb-19229d7db4d6"
      },
      "execution_count": null,
      "outputs": [
        {
          "output_type": "stream",
          "name": "stdout",
          "text": [
            "8\n",
            "8\n"
          ]
        }
      ]
    },
    {
      "cell_type": "code",
      "source": [
        "# reshape() help us to reshape our array.\n",
        "z = np.array([5,6,7,45,12,52]).reshape(2,3)\n",
        "print(z)\n"
      ],
      "metadata": {
        "colab": {
          "base_uri": "https://localhost:8080/"
        },
        "id": "ZrZOBCKdbc_l",
        "outputId": "790ee2f5-6ea5-461a-a315-8b7d485294fa"
      },
      "execution_count": null,
      "outputs": [
        {
          "output_type": "stream",
          "name": "stdout",
          "text": [
            "[[ 5  6  7]\n",
            " [45 12 52]]\n"
          ]
        }
      ]
    },
    {
      "cell_type": "markdown",
      "source": [
        "Matrix ->. It is form of an array"
      ],
      "metadata": {
        "id": "4dFSIMx6csdA"
      }
    },
    {
      "cell_type": "code",
      "source": [
        "x = np.matrix([[1,2,3],[3,4,5],[6,7,8]])\n",
        "print(x)"
      ],
      "metadata": {
        "colab": {
          "base_uri": "https://localhost:8080/"
        },
        "id": "oFho-JEFciWo",
        "outputId": "27d112b3-4b8e-48f9-b793-60734b78c885"
      },
      "execution_count": null,
      "outputs": [
        {
          "output_type": "stream",
          "name": "stdout",
          "text": [
            "[[1 2 3]\n",
            " [3 4 5]\n",
            " [6 7 8]]\n"
          ]
        }
      ]
    },
    {
      "cell_type": "code",
      "source": [
        "# Excercise :-\n",
        "\n",
        "import numpy as npy\n",
        "\n",
        "marks = [20,30,40]\n",
        "ids = [0,2,4]\n",
        "\n",
        "print(marks)\n",
        "print(ids)"
      ],
      "metadata": {
        "colab": {
          "base_uri": "https://localhost:8080/"
        },
        "id": "2HBhNt26c2jg",
        "outputId": "fd138e96-db89-4e69-9280-c3f4bf3d7b22"
      },
      "execution_count": null,
      "outputs": [
        {
          "output_type": "stream",
          "name": "stdout",
          "text": [
            "[20, 30, 40]\n",
            "[0, 2, 4]\n"
          ]
        }
      ]
    },
    {
      "cell_type": "code",
      "source": [
        "arr1 = np.array([25,56,12,85,34,75])\n",
        "\n",
        "arr2 = [42,3,86,32,856,46]\n",
        "\n",
        "Narr = np.array([1,2,3,4,5,6])\n"
      ],
      "metadata": {
        "id": "jQhIO99keB2u"
      },
      "execution_count": null,
      "outputs": []
    },
    {
      "cell_type": "code",
      "source": [
        "new_arr = arr1.astype(complex)\n",
        "print(new_arr)"
      ],
      "metadata": {
        "colab": {
          "base_uri": "https://localhost:8080/"
        },
        "id": "UoqlDsque9v3",
        "outputId": "8f71a7c1-9d91-42ed-c245-94484822c411"
      },
      "execution_count": null,
      "outputs": [
        {
          "output_type": "stream",
          "name": "stdout",
          "text": [
            "[25.+0.j 56.+0.j 12.+0.j 85.+0.j 34.+0.j 75.+0.j]\n"
          ]
        }
      ]
    },
    {
      "cell_type": "markdown",
      "source": [
        "Indexing"
      ],
      "metadata": {
        "id": "n19OKdRqfraT"
      }
    },
    {
      "cell_type": "code",
      "source": [
        "name = 'Carter'\n",
        "# print only 'e' from carter\n",
        "x = name[4]\n",
        "print(x)"
      ],
      "metadata": {
        "id": "VfxwX8tzfSRN",
        "colab": {
          "base_uri": "https://localhost:8080/"
        },
        "outputId": "2ec1bbb6-5dcf-4d6b-9649-126b16c3910a"
      },
      "execution_count": 30,
      "outputs": [
        {
          "output_type": "stream",
          "name": "stdout",
          "text": [
            "e\n"
          ]
        }
      ]
    },
    {
      "cell_type": "code",
      "source": [
        "a = np.array([[1,2,3],[4,5,6],[7,8,9]])\n",
        "# pull out second element of the 3 rd row\n",
        "print(a)\n",
        "print(a[2][1])"
      ],
      "metadata": {
        "colab": {
          "base_uri": "https://localhost:8080/"
        },
        "id": "M49YiMXxgbXB",
        "outputId": "fa03d9bf-df95-417b-d72e-c641b3034e33"
      },
      "execution_count": 33,
      "outputs": [
        {
          "output_type": "stream",
          "name": "stdout",
          "text": [
            "[[1 2 3]\n",
            " [4 5 6]\n",
            " [7 8 9]]\n",
            "8\n"
          ]
        }
      ]
    },
    {
      "cell_type": "markdown",
      "source": [],
      "metadata": {
        "id": "eTjIsxqbhnl_"
      }
    },
    {
      "cell_type": "code",
      "source": [
        "# pull out 1st two rows and columns\n",
        "print(a[:2,:2])"
      ],
      "metadata": {
        "colab": {
          "base_uri": "https://localhost:8080/"
        },
        "id": "wYUCr_r3glZs",
        "outputId": "fce0524f-0a36-45cd-987e-7356c33a92ff"
      },
      "execution_count": 34,
      "outputs": [
        {
          "output_type": "stream",
          "name": "stdout",
          "text": [
            "[[1 2]\n",
            " [4 5]]\n"
          ]
        }
      ]
    },
    {
      "cell_type": "code",
      "source": [
        "# pull out all elements of the 3rd row\n",
        "print(a[2, :])"
      ],
      "metadata": {
        "colab": {
          "base_uri": "https://localhost:8080/"
        },
        "id": "OTl_Hl8ihZks",
        "outputId": "2fafc6f3-de3d-44b6-ee0f-5ccc043c2e46"
      },
      "execution_count": 36,
      "outputs": [
        {
          "output_type": "stream",
          "name": "stdout",
          "text": [
            "[7 8 9]\n"
          ]
        }
      ]
    },
    {
      "cell_type": "markdown",
      "source": [
        "Integer Array Indexing"
      ],
      "metadata": {
        "id": "4ERzG_FOlANi"
      }
    },
    {
      "cell_type": "code",
      "source": [
        "a = np.array([[1,2,3],[4,5,6],[7,8,9]])\n",
        "# pull out the 1st elemetn from 1st row 2 and element from 2nd row and the 1st element from the 3rd row\n",
        "print(a[[0,1,2],[0,1,0]])"
      ],
      "metadata": {
        "colab": {
          "base_uri": "https://localhost:8080/"
        },
        "id": "JJkL6ZLMhyqI",
        "outputId": "6f2603c9-16c5-4ced-a28b-e779135a3f73"
      },
      "execution_count": 38,
      "outputs": [
        {
          "output_type": "stream",
          "name": "stdout",
          "text": [
            "[1 5 7]\n"
          ]
        }
      ]
    },
    {
      "cell_type": "code",
      "source": [
        "a = np.array([[4,7,1],[2,5,7],[7,1,1]])\n",
        "mask = a > 3\n",
        "print(mask)\n",
        "\n",
        "print(a[mask])"
      ],
      "metadata": {
        "colab": {
          "base_uri": "https://localhost:8080/"
        },
        "id": "zLucMzYTlMDV",
        "outputId": "110aa07b-64d1-4965-b399-892644543cba"
      },
      "execution_count": 41,
      "outputs": [
        {
          "output_type": "stream",
          "name": "stdout",
          "text": [
            "[[ True  True False]\n",
            " [False  True  True]\n",
            " [ True False False]]\n",
            "[4 7 5 7 7]\n"
          ]
        }
      ]
    },
    {
      "cell_type": "markdown",
      "source": [
        "Vectorisation : It abliity of NumPy by whihc we can perform operations on entire array greater than or less than 2."
      ],
      "metadata": {
        "id": "g0I6g9WqnSUn"
      }
    },
    {
      "cell_type": "code",
      "source": [],
      "metadata": {
        "id": "HzTZv8sWnBC3"
      },
      "execution_count": null,
      "outputs": []
    }
  ]
}